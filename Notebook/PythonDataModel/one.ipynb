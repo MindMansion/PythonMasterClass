{
 "cells": [
  {
   "cell_type": "markdown",
   "source": [
    "    Python Data Model is the building block of every other python objects:\n",
    "    From them all other objects are constructed\n",
    "\n",
    "    i.e. The data model has special methods which are triggered whenever needed\n",
    "    This special methods are generally called \"dunder methods this is because of\n",
    "    their unique representation in python (They start with a double under score and\n",
    "    end with a double under score i.e __len__, __getitem__ etc\n",
    "\n",
    "_Example_\n",
    "\n",
    "    whenever the len() method is used the interpreter triggers the __len__ dunder method\n",
    "    and use it to completed the length of objects\n",
    "\n",
    "    This special methods are very powerful and can be used to achieve a lot of powerful\n",
    "    things when properly leveraged.\n"
   ],
   "metadata": {
    "collapsed": false,
    "pycharm": {
     "name": "#%% md\n"
    }
   }
  },
  {
   "cell_type": "markdown",
   "source": [
    "Example: class represents deck of playing cards\n",
    "\"In this example we'll show the power of two special methods __getitem__ and __len__\""
   ],
   "metadata": {
    "collapsed": false,
    "pycharm": {
     "name": "#%% md\n"
    }
   }
  },
  {
   "cell_type": "code",
   "execution_count": 1,
   "outputs": [
    {
     "name": "stdout",
     "output_type": "stream",
     "text": [
      "Card(rank='7', suit='diamonds')\n",
      "52\n",
      "Card(rank='2', suit='spades')\n",
      "Card(rank='A', suit='hearts')\n"
     ]
    }
   ],
   "source": [
    "import collections\n",
    "\n",
    "# Namedtuple is a part of collections that is used to construct a simple class to represent individual cards\n",
    "# instead of having the cards as just simple tuples objects, it is now a class\n",
    "# Just to represent bundles of attributes as a class with no custom methods, i.e a database record\n",
    "Card = collections.namedtuple('Card', ['rank', 'suit'])\n",
    "\n",
    "\n",
    "class FrenchDeck:\n",
    "    ranks = [str(n) for n in range(2, 11)] + list('JQKA')\n",
    "    suits = 'spades diamonds clubs hearts'.split()\n",
    "\n",
    "    def __init__(self):\n",
    "        # 13 Suits and 5 Rank ==> 52 Cards\n",
    "        self._cards = [Card(rank, suit) for suit in self.suits for rank in self.ranks]\n",
    "\n",
    "    def __len__(self):\n",
    "        \"\"\" A deck responds the len() function using the\n",
    "        __len__ and compute the length of decks in FrenchDeck\"\"\"\n",
    "        return len(self._cards)\n",
    "\n",
    "    def __getitem__(self, position):\n",
    "        \"\"\"A get a card in deck at the position provided\"\"\"\n",
    "        return self._cards[position]\n",
    "\n",
    "\n",
    "beer_card = Card('7', 'diamonds')  # create a card with rank and suit\n",
    "print(beer_card)\n",
    "\n",
    "deck = FrenchDeck()\n",
    "print(len(deck))\n",
    "\n",
    "print(deck[0])\n",
    "print(deck[-1])"
   ],
   "metadata": {
    "collapsed": false,
    "pycharm": {
     "name": "#%%\n"
    }
   }
  },
  {
   "cell_type": "markdown",
   "source": [
    "No need to create a method to randomly pick a card, there's one available\n",
    "\"random.choice\""
   ],
   "metadata": {
    "collapsed": false,
    "pycharm": {
     "name": "#%% md\n"
    }
   }
  },
  {
   "cell_type": "code",
   "execution_count": 2,
   "outputs": [
    {
     "name": "stdout",
     "output_type": "stream",
     "text": [
      "Random deck: Card(rank='J', suit='hearts')\n",
      "Random deck: Card(rank='10', suit='spades')\n",
      "Random deck: Card(rank='A', suit='hearts')\n",
      "All cards\n",
      "[Card(rank='2', suit='spades'), Card(rank='3', suit='spades'), Card(rank='4', suit='spades'), Card(rank='5', suit='spades'), Card(rank='6', suit='spades'), Card(rank='7', suit='spades'), Card(rank='8', suit='spades'), Card(rank='9', suit='spades'), Card(rank='10', suit='spades'), Card(rank='J', suit='spades'), Card(rank='Q', suit='spades'), Card(rank='K', suit='spades'), Card(rank='A', suit='spades'), Card(rank='2', suit='diamonds'), Card(rank='3', suit='diamonds'), Card(rank='4', suit='diamonds'), Card(rank='5', suit='diamonds'), Card(rank='6', suit='diamonds'), Card(rank='7', suit='diamonds'), Card(rank='8', suit='diamonds'), Card(rank='9', suit='diamonds'), Card(rank='10', suit='diamonds'), Card(rank='J', suit='diamonds'), Card(rank='Q', suit='diamonds'), Card(rank='K', suit='diamonds'), Card(rank='A', suit='diamonds'), Card(rank='2', suit='clubs'), Card(rank='3', suit='clubs'), Card(rank='4', suit='clubs'), Card(rank='5', suit='clubs'), Card(rank='6', suit='clubs'), Card(rank='7', suit='clubs'), Card(rank='8', suit='clubs'), Card(rank='9', suit='clubs'), Card(rank='10', suit='clubs'), Card(rank='J', suit='clubs'), Card(rank='Q', suit='clubs'), Card(rank='K', suit='clubs'), Card(rank='A', suit='clubs'), Card(rank='2', suit='hearts'), Card(rank='3', suit='hearts'), Card(rank='4', suit='hearts'), Card(rank='5', suit='hearts'), Card(rank='6', suit='hearts'), Card(rank='7', suit='hearts'), Card(rank='8', suit='hearts'), Card(rank='9', suit='hearts'), Card(rank='10', suit='hearts'), Card(rank='J', suit='hearts'), Card(rank='Q', suit='hearts'), Card(rank='K', suit='hearts'), Card(rank='A', suit='hearts')]\n",
      "Three cards\n",
      "[Card(rank='2', suit='spades'), Card(rank='3', suit='spades'), Card(rank='4', suit='spades')]\n",
      "Starting from 12 and skip the next 13 cards\n",
      "[Card(rank='A', suit='spades'), Card(rank='A', suit='diamonds'), Card(rank='A', suit='clubs'), Card(rank='A', suit='hearts')]\n"
     ]
    }
   ],
   "source": [
    "from random import choice\n",
    "\n",
    "random_deck = choice(deck)\n",
    "print(\"Random deck:\", random_deck)\n",
    "random_deck = choice(deck)\n",
    "print(\"Random deck:\", random_deck)\n",
    "random_deck = choice(deck)\n",
    "print(\"Random deck:\", random_deck)\n",
    "\n",
    "\n",
    "\"\"\"\n",
    "    So far two advantage of leveraging special methods\n",
    "    1. No need to remember method names (i.e len, getitem)\n",
    "\n",
    "    2. Easier to benefit from the python stl and avoid reinventing the wheel\n",
    "        i.e random.choice and lots more\n",
    "\n",
    "\"\"\"\n",
    "print(\"All cards\")\n",
    "print(deck[:])\n",
    "# Slicing deck, our deck automatically inherits support slicing\n",
    "print(\"Three cards\")\n",
    "card_portion = deck[:3]\n",
    "print(card_portion)\n",
    "\n",
    "print(\"Starting from 12 and skip the next 13 cards\")\n",
    "card_portion = deck[12::13]\n",
    "print(card_portion)"
   ],
   "metadata": {
    "collapsed": false,
    "pycharm": {
     "name": "#%%\n"
    }
   }
  },
  {
   "cell_type": "markdown",
   "source": [
    "By implementing the __getitem__ method this makes the deck\n",
    "iterable automatically"
   ],
   "metadata": {
    "collapsed": false,
    "pycharm": {
     "name": "#%% md\n"
    }
   }
  },
  {
   "cell_type": "code",
   "execution_count": 3,
   "outputs": [
    {
     "name": "stdout",
     "output_type": "stream",
     "text": [
      "Card 1:  Card(rank='2', suit='spades')\n",
      "Card 2:  Card(rank='3', suit='spades')\n",
      "Card 3:  Card(rank='4', suit='spades')\n",
      "Card 1:  Card(rank='4', suit='spades')\n",
      "Card 2:  Card(rank='3', suit='spades')\n",
      "Card 3:  Card(rank='2', suit='spades')\n",
      "Contains\n",
      "True\n",
      "False\n"
     ]
    }
   ],
   "source": [
    "n = 1\n",
    "for card in deck[:3]:\n",
    "    print(f\"Card {n}: \", card)\n",
    "    n += 1\n",
    "\n",
    "n = 1\n",
    "for card in reversed(deck[:3]):\n",
    "    print(f\"Card {n}: \", card)\n",
    "    n += 1\n",
    "\n",
    "print(\"Contains\")\n",
    "\n",
    "\"\"\"\n",
    "    By default python uses the in keyword to check if the object is\n",
    "    available in a sequence is the __contains__ methods is not\n",
    "    provided\n",
    "\"\"\"\n",
    "\n",
    "my_card = Card('Q', 'hearts')\n",
    "print(my_card in deck)\n",
    "\n",
    "my_card = Card('4', 'kings')\n",
    "print(my_card in deck)\n"
   ],
   "metadata": {
    "collapsed": false,
    "pycharm": {
     "name": "#%%\n"
    }
   }
  },
  {
   "cell_type": "markdown",
   "source": [
    "_Sorting...._"
   ],
   "metadata": {
    "collapsed": false,
    "pycharm": {
     "name": "#%% md\n"
    }
   }
  },
  {
   "cell_type": "code",
   "execution_count": 4,
   "outputs": [
    {
     "name": "stdout",
     "output_type": "stream",
     "text": [
      "Card(rank='2', suit='clubs')\n",
      "Card(rank='2', suit='diamonds')\n",
      "Card(rank='2', suit='hearts')\n",
      "Card(rank='2', suit='spades')\n",
      "Card(rank='3', suit='clubs')\n",
      "Card(rank='3', suit='diamonds')\n",
      "Card(rank='3', suit='hearts')\n",
      "Card(rank='3', suit='spades')\n",
      "Card(rank='4', suit='clubs')\n",
      "Card(rank='4', suit='diamonds')\n",
      "Card(rank='4', suit='hearts')\n",
      "Card(rank='4', suit='spades')\n",
      "Card(rank='5', suit='clubs')\n",
      "Card(rank='5', suit='diamonds')\n",
      "Card(rank='5', suit='hearts')\n",
      "Card(rank='5', suit='spades')\n",
      "Card(rank='6', suit='clubs')\n",
      "Card(rank='6', suit='diamonds')\n",
      "Card(rank='6', suit='hearts')\n",
      "Card(rank='6', suit='spades')\n",
      "Card(rank='7', suit='clubs')\n",
      "Card(rank='7', suit='diamonds')\n",
      "Card(rank='7', suit='hearts')\n",
      "Card(rank='7', suit='spades')\n",
      "Card(rank='8', suit='clubs')\n",
      "Card(rank='8', suit='diamonds')\n",
      "Card(rank='8', suit='hearts')\n",
      "Card(rank='8', suit='spades')\n",
      "Card(rank='9', suit='clubs')\n",
      "Card(rank='9', suit='diamonds')\n",
      "Card(rank='9', suit='hearts')\n",
      "Card(rank='9', suit='spades')\n",
      "Card(rank='10', suit='clubs')\n",
      "Card(rank='10', suit='diamonds')\n",
      "Card(rank='10', suit='hearts')\n",
      "Card(rank='10', suit='spades')\n",
      "Card(rank='J', suit='clubs')\n",
      "Card(rank='J', suit='diamonds')\n",
      "Card(rank='J', suit='hearts')\n",
      "Card(rank='J', suit='spades')\n",
      "Card(rank='Q', suit='clubs')\n",
      "Card(rank='Q', suit='diamonds')\n",
      "Card(rank='Q', suit='hearts')\n",
      "Card(rank='Q', suit='spades')\n",
      "Card(rank='K', suit='clubs')\n",
      "Card(rank='K', suit='diamonds')\n",
      "Card(rank='K', suit='hearts')\n",
      "Card(rank='K', suit='spades')\n",
      "Card(rank='A', suit='clubs')\n",
      "Card(rank='A', suit='diamonds')\n",
      "Card(rank='A', suit='hearts')\n",
      "Card(rank='A', suit='spades')\n"
     ]
    }
   ],
   "source": [
    "suit_values = dict(spades=3, hearts=2, diamonds=1, clubs=0)\n",
    "\n",
    "\n",
    "def spades_high(card):\n",
    "    rank_value = FrenchDeck.ranks.index(card.rank)\n",
    "    return rank_value * len(suit_values) + suit_values[card.suit]\n",
    "\n",
    "\n",
    "for card in sorted(deck, key=spades_high):\n",
    "    print(card)"
   ],
   "metadata": {
    "collapsed": false,
    "pycharm": {
     "name": "#%%\n"
    }
   }
  }
 ],
 "metadata": {
  "kernelspec": {
   "display_name": "Python 3",
   "language": "python",
   "name": "python3"
  },
  "language_info": {
   "codemirror_mode": {
    "name": "ipython",
    "version": 2
   },
   "file_extension": ".py",
   "mimetype": "text/x-python",
   "name": "python",
   "nbconvert_exporter": "python",
   "pygments_lexer": "ipython2",
   "version": "2.7.6"
  }
 },
 "nbformat": 4,
 "nbformat_minor": 0
}