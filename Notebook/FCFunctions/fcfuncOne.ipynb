{
 "cells": [
  {
   "cell_type": "markdown",
   "source": [
    "---\n",
    "# First class Functions *`{functions as first class objeccts}`*\n",
    "Functions in Python are first-class objects. Programming language theorists define\n",
    "a *`first-class object`* as a program entity that can be:\n",
    "- created at runtime\n",
    "- assigned to a variable or element to a element in a data structure\n",
    "- passed as an argument to a function\n",
    "- returned as the result of a function\n",
    "\n",
    "e.g.\n",
    "    - Integers\n",
    "    - Strings\n",
    "    - dictionaries\n",
    "---\n"
   ],
   "metadata": {
    "collapsed": false
   }
  },
  {
   "cell_type": "markdown",
   "source": [
    "# Treating a function like an object\n",
    "The example below shows that all functions in Python, are created as object under the hood"
   ],
   "metadata": {
    "collapsed": false
   }
  },
  {
   "cell_type": "code",
   "execution_count": 1,
   "outputs": [
    {
     "name": "stdout",
     "output_type": "stream",
     "text": [
      "1405006117752879898543142606244511569936384000000000\n",
      "returns n!\n",
      "<class 'function'>\n",
      "Help on function factorial in module __main__:\n",
      "\n",
      "factorial(n)\n",
      "    returns n!\n",
      "\n",
      "<function factorial at 0x102bdb9d0>\n",
      "120\n",
      "<map object at 0x102c19040>\n",
      "[1, 1, 2, 6, 24, 120, 720, 5040, 40320, 362880, 3628800]\n"
     ]
    }
   ],
   "source": [
    "def factorial(n):\n",
    "    \"\"\"returns n!\"\"\"\n",
    "    return 1 if n < 2 else n * factorial(n - 1)\n",
    "\n",
    "print(factorial(42))\n",
    "print(factorial.__doc__)\n",
    "print(type(factorial))\n",
    "help(factorial)\n",
    "\n",
    "# assigning functions to object\n",
    "\n",
    "fact = factorial\n",
    "print(fact)\n",
    "fact5 = fact(5)\n",
    "print(fact5)\n",
    "\n",
    "mapped_fact = map(factorial, range(11))\n",
    "print(mapped_fact)\n",
    "list_fact = list(map(fact, range(11)))\n",
    "print(list_fact)\n",
    "# Having first-class functions enables programming in a functional style. One of the hallmarks\n",
    "# of functional programming is the use of higher order functions.\n"
   ],
   "metadata": {
    "collapsed": false,
    "pycharm": {
     "name": "#%%\n"
    }
   }
  },
  {
   "cell_type": "markdown",
   "source": [
    "---\n",
    "# Higher-order functions\n",
    "A function that takes as argument or returns a function as result is a\n",
    " `higher-order-function` ONE example is map, or sorted built-in function\n",
    "##### Built-in higher order functions example\n",
    "- map\n",
    "- filter\n",
    "- reduce"
   ],
   "metadata": {
    "collapsed": false
   }
  },
  {
   "cell_type": "code",
   "execution_count": 2,
   "outputs": [
    {
     "name": "stdout",
     "output_type": "stream",
     "text": [
      "['strawberry', 'fig', 'apple', 'cherry', 'raspberry', 'banana']\n",
      "['fig', 'apple', 'cherry', 'banana', 'raspberry', 'strawberry']\n",
      "testing reversed is:  gnitset\n",
      "['banana', 'apple', 'fig', 'raspberry', 'strawberry', 'cherry']\n"
     ]
    }
   ],
   "source": [
    "fruits = ['strawberry', 'fig', 'apple', 'cherry', 'raspberry', 'banana']\n",
    "print(fruits)\n",
    "sorted_fruits = sorted(fruits, key=len)\n",
    "print(sorted_fruits)\n",
    "\n",
    "def reverse(word):\n",
    "    return word[::-1]\n",
    "print('testing reversed is: ', reverse('testing'))\n",
    "print(sorted(fruits, key=reverse))"
   ],
   "metadata": {
    "collapsed": false,
    "pycharm": {
     "name": "#%%\n"
    }
   }
  },
  {
   "cell_type": "markdown",
   "source": [
    "---\n",
    "# Modern replacements for `map, filter and reduce`\n",
    "Since the introduction of list comprehensions, generator expressions map, filter and reduce\n",
    "are no longer so important.\n",
    "A `listcomp` or `genexp` does the job of map and filter combined, and also more readable\n",
    "\n",
    "`reduce` function was, demoted from a built-in in Python 2 to the `functools` module in Python 3"
   ],
   "metadata": {
    "collapsed": false
   }
  },
  {
   "cell_type": "code",
   "execution_count": 3,
   "outputs": [
    {
     "name": "stdout",
     "output_type": "stream",
     "text": [
      "4950\n",
      "4950\n",
      "True\n",
      "True\n"
     ]
    }
   ],
   "source": [
    "from functools import reduce\n",
    "from operator import add\n",
    "\n",
    "print(reduce(add, range(100)))\n",
    "print(sum(range(100))) # sum is better\n",
    "\n",
    "print(all(fruits))\n",
    "print(any(fruits))"
   ],
   "metadata": {
    "collapsed": false,
    "pycharm": {
     "name": "#%%\n"
    }
   }
  },
  {
   "cell_type": "markdown",
   "source": [
    "---\n",
    "# Anonymous functions\n",
    "The `lambda` keyword create anonymous functions within a Python expressions.\n",
    "Python lambdas cannot other Python statements such as try, while etc.\n",
    "\n",
    "Outside the limited context of arguments to higher-order functions, anonymous functions,\n",
    "are rarely used in Python. This is because the syntactic restrictions tend to make no-trivial\n",
    "lambdas either unreadable or unworkable.\n",
    "\n",
    "see example below"
   ],
   "metadata": {
    "collapsed": false
   }
  },
  {
   "cell_type": "code",
   "execution_count": 4,
   "outputs": [
    {
     "name": "stdout",
     "output_type": "stream",
     "text": [
      "['banana', 'apple', 'fig', 'raspberry', 'strawberry', 'cherry']\n"
     ]
    }
   ],
   "source": [
    "print(sorted(fruits, key=lambda word: word[::-1]))\n"
   ],
   "metadata": {
    "collapsed": false,
    "pycharm": {
     "name": "#%%\n"
    }
   }
  },
  {
   "cell_type": "markdown",
   "source": [
    "---\n",
    "# The seven flavors of callable object\n",
    "The call operator, i.e. `()` may be applied to other objects beyond user-defined functions.\n",
    "\n",
    "To Determine whether an object is callable, use the `callable()` built-in function.\n",
    "\n",
    "i.e.\n",
    "- User-defined functions\n",
    "    - created with def or lambda\n",
    "- Built-in functions\n",
    "     - a function implemented in C (for CPython), like len, or time.strftime\n",
    "- Built-in methods\n",
    "    - method implement in C, like dict.get\n",
    "- Methods\n",
    "    - functions define in the body of a class\n",
    "- Classes\n",
    "    - when invoked a class run it's __new__ method to create an instance, them __init__ to\n",
    "        initialize it and finally the instance, is returned to caller.This is because there\n",
    "        is no new operator in Python, calling a class is like calling a function.\n",
    "- Class instances\n",
    "    - if a class defines a call method, then its instances may, be invoked as functions.\n",
    "- Generator functions\n",
    "    - functions or methods that uses the yield keyword. When called, generator functions\n",
    "        returns a generator object.\n",
    "\n"
   ],
   "metadata": {
    "collapsed": false
   }
  },
  {
   "cell_type": "code",
   "execution_count": 5,
   "outputs": [
    {
     "data": {
      "text/plain": "[True, True, False, True]"
     },
     "execution_count": 5,
     "metadata": {},
     "output_type": "execute_result"
    }
   ],
   "source": [
    "# The safest way to check if an object is callable is to used the built in callable()\n",
    "[callable(obj) for obj in (abs, str, 13, fact)]"
   ],
   "metadata": {
    "collapsed": false,
    "pycharm": {
     "name": "#%%\n"
    }
   }
  },
  {
   "cell_type": "markdown",
   "source": [
    "---\n",
    "# User defined callable types\n",
    "Not only are Python functions real objects, but arbitrary Python objects may also be\n",
    "made to behave like functions. Implementing a `__call__` instance method is all it takes.\n",
    "\n",
    "see example below:"
   ],
   "metadata": {
    "collapsed": false
   }
  },
  {
   "cell_type": "code",
   "execution_count": 6,
   "outputs": [
    {
     "name": "stdout",
     "output_type": "stream",
     "text": [
      "1\n",
      "0\n",
      "0\n"
     ]
    },
    {
     "data": {
      "text/plain": "True"
     },
     "execution_count": 6,
     "metadata": {},
     "output_type": "execute_result"
    }
   ],
   "source": [
    "import  random\n",
    "\n",
    "class BingoCage:\n",
    "\n",
    "    def __init__(self, items):\n",
    "        self.__items = list(items)\n",
    "        random.shuffle(self.__items)\n",
    "\n",
    "    def pick(self):\n",
    "        try:\n",
    "            return self.__items.pop()\n",
    "        except IndexError:\n",
    "            raise LookupError('pick from empty BingoCage')\n",
    "\n",
    "    def __call__(self):\n",
    "        return self.pick()\n",
    "\n",
    "bingo = BingoCage(range(3))\n",
    "print(bingo.pick())\n",
    "print(bingo())\n",
    "print(BingoCage(range(4))())\n",
    "callable(bingo)"
   ],
   "metadata": {
    "collapsed": false,
    "pycharm": {
     "name": "#%%\n"
    }
   }
  },
  {
   "cell_type": "markdown",
   "source": [
    "---\n",
    "# Function introspection\n",
    "Function objects have many attributes beyond __doc__\n",
    "\n",
    "use the  `dir()` to see the full attributes of an object\n"
   ],
   "metadata": {
    "collapsed": false
   }
  },
  {
   "cell_type": "code",
   "execution_count": 7,
   "outputs": [
    {
     "name": "stdout",
     "output_type": "stream",
     "text": [
      "['__annotations__', '__call__', '__class__', '__closure__', '__code__', '__defaults__', '__delattr__', '__dict__', '__dir__', '__doc__', '__eq__', '__format__', '__ge__', '__get__', '__getattribute__', '__globals__', '__gt__', '__hash__', '__init__', '__init_subclass__', '__kwdefaults__', '__le__', '__lt__', '__module__', '__name__', '__ne__', '__new__', '__qualname__', '__reduce__', '__reduce_ex__', '__repr__', '__setattr__', '__sizeof__', '__str__', '__subclasshook__']\n"
     ]
    },
    {
     "data": {
      "text/plain": "['__annotations__',\n '__call__',\n '__closure__',\n '__code__',\n '__defaults__',\n '__get__',\n '__globals__',\n '__kwdefaults__',\n '__name__',\n '__qualname__']"
     },
     "execution_count": 7,
     "metadata": {},
     "output_type": "execute_result"
    }
   ],
   "source": [
    "print(dir(factorial))\n",
    "class C: pass\n",
    "obj = C()\n",
    "def func(): pass\n",
    "sorted(set(dir(func)) - set(dir(obj))) # get the sorted list of functions that exist in\n",
    "# function but not in an instance of a bare class"
   ],
   "metadata": {
    "collapsed": false,
    "pycharm": {
     "name": "#%%\n"
    }
   }
  },
  {
   "cell_type": "markdown",
   "source": [
    "---\n",
    "# From positional to keyword-only parameters\n",
    "One of the best features of Python functions is the extremely flexible parameter handling\n",
    "mechanism, enhance with keyword-only argument in Python 3.\n",
    "\n",
    "Closely related are the use of ` * and **` to explode iterables and mappings into separate\n",
    "arguments when we call a function.\n",
    "\n",
    "See example in action below:\n"
   ],
   "metadata": {
    "collapsed": false
   }
  },
  {
   "cell_type": "code",
   "execution_count": 8,
   "outputs": [
    {
     "name": "stdout",
     "output_type": "stream",
     "text": [
      "<br />\n",
      "<p>hello</p>\n",
      "<p>hello</p>\n",
      "<p>world</p>\n",
      "<p id=\"33\">hello</p>\n",
      "<p cl=\"sidebar\">hello</p>\n",
      "<p cl=\"sidebar\">world</p>\n"
     ]
    }
   ],
   "source": [
    "def tag(name, *content, cls=None, **attrs):\n",
    "    \"\"\" Generate one or more HTML tags \"\"\"\n",
    "    if cls is not None:\n",
    "        attrs['class'] = cls\n",
    "    if attrs:\n",
    "        attr_str = ''. join(' %s=\"%s\"' % (attr, value)\n",
    "                            for attr, value in sorted(attrs.items()))\n",
    "    else:\n",
    "        attr_str = ''\n",
    "    if content:\n",
    "        return '\\n'.join('<%s%s>%s</%s>' % (name, attr_str, c, name) for c in content)\n",
    "    else:\n",
    "        return '<%s%s />' % (name, attr_str)\n",
    "\n",
    "print(tag('br'))\n",
    "print(tag('p', 'hello'))\n",
    "print(tag('p', 'hello', 'world'))\n",
    "print(tag('p', 'hello', id=33))\n",
    "print(tag('p', 'hello', 'world', cl='sidebar'))"
   ],
   "metadata": {
    "collapsed": false,
    "pycharm": {
     "name": "#%%\n"
    }
   }
  },
  {
   "cell_type": "code",
   "execution_count": 8,
   "outputs": [],
   "source": [
    "\n"
   ],
   "metadata": {
    "collapsed": false,
    "pycharm": {
     "name": "#%%\n"
    }
   }
  }
 ],
 "metadata": {
  "kernelspec": {
   "display_name": "Python 3",
   "language": "python",
   "name": "python3"
  },
  "language_info": {
   "codemirror_mode": {
    "name": "ipython",
    "version": 2
   },
   "file_extension": ".py",
   "mimetype": "text/x-python",
   "name": "python",
   "nbconvert_exporter": "python",
   "pygments_lexer": "ipython2",
   "version": "2.7.6"
  }
 },
 "nbformat": 4,
 "nbformat_minor": 0
}