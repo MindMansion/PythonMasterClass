{
 "cells": [
  {
   "cell_type": "markdown",
   "metadata": {
    "collapsed": true,
    "pycharm": {
     "name": "#%% md\n"
    }
   },
   "source": [
    "**Emulating spacial types**\n",
    "\n",
    "Create a class to represent a two, dimensional vector\n",
    "Show how the (* + abs) operators can be used to manipulate objects\n",
    "\"using:\"\n",
    "- `__repr__`\n",
    "- `__abs__`\n",
    "- `__add__`\n",
    "- `__mul__`\n",
    "\n",
    "special methods\n"
   ]
  },
  {
   "cell_type": "code",
   "execution_count": 1,
   "outputs": [
    {
     "name": "stdout",
     "output_type": "stream",
     "text": [
      "\n",
      "********** SECTION ********** \n",
      "\n",
      "Vector1:  Vector(4, 4)\n",
      "Vector2:  Vector(1, 1)\n",
      "Vector1 + Vector2: Vector(5, 5)\n",
      "Multiply by 3 Vector(15, 15)\n",
      "Absolute value of vec3 6.4031242374328485\n"
     ]
    }
   ],
   "source": [
    "def section():\n",
    "    print(f\"\\n{'*' * 10} SECTION {'*' * 10} \\n\")\n",
    "\n",
    "\n",
    "section()\n",
    "\n",
    "from math import hypot\n",
    "\n",
    "\n",
    "class Vector:\n",
    "\n",
    "    def __init__(self, x=0, y=0):\n",
    "        self.x = x\n",
    "        self.y = y\n",
    "\n",
    "    def __repr__(self):\n",
    "        \"\"\"\n",
    "            used for printing string representation\n",
    "            of object to avoid print just the obj address 0x0....\n",
    "        \"\"\"\n",
    "        return 'Vector(%r, %r)' % (self.x, self.y)\n",
    "\n",
    "    def __str__(self):\n",
    "        \"\"\"Strictly string representation of an object for end-user readability\"\"\"\n",
    "        return f\"Vector({self.y}, {self.y})\"\n",
    "\n",
    "    def __abs__(self):\n",
    "        return hypot(self.x, self.y)\n",
    "\n",
    "    # def __bool__(self):\n",
    "    #     return bool(abs(self))\n",
    "\n",
    "    def __bool_(self):\n",
    "        \"\"\" This implementation is faster because the trip to abs ==> __abs__ is avoided\"\"\"\n",
    "        return bool(self.x or \"False\")\n",
    "\n",
    "    def __add__(self, other):\n",
    "        x = self.x + other.x\n",
    "        y = self.y + other.y\n",
    "        return Vector(x, y)\n",
    "\n",
    "    def __mul__(self, scalar):\n",
    "        return Vector(self.x * scalar, self.y * scalar)\n",
    "\n",
    "\n",
    "vec1 = Vector(2, 4)\n",
    "vec2 = Vector(2, 1)\n",
    "vec3 = vec1 + vec2\n",
    "print(\"Vector1: \", vec1)\n",
    "print(\"Vector2: \", vec2)\n",
    "print(\"Vector1 + Vector2:\", vec3)\n",
    "\n",
    "multiply_by_3 = vec3 * 3\n",
    "print(\"Multiply by 3\", multiply_by_3)\n",
    "\n",
    "print(\"Absolute value of vec3\", abs(vec3))"
   ],
   "metadata": {
    "collapsed": false,
    "pycharm": {
     "name": "#%%\n"
    }
   }
  }
 ],
 "metadata": {
  "kernelspec": {
   "display_name": "Python 3",
   "language": "python",
   "name": "python3"
  },
  "language_info": {
   "codemirror_mode": {
    "name": "ipython",
    "version": 2
   },
   "file_extension": ".py",
   "mimetype": "text/x-python",
   "name": "python",
   "nbconvert_exporter": "python",
   "pygments_lexer": "ipython2",
   "version": "2.7.6"
  }
 },
 "nbformat": 4,
 "nbformat_minor": 0
}