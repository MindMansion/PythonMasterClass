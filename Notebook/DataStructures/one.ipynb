{
 "cells": [
  {
   "cell_type": "code",
   "execution_count": 22,
   "metadata": {
    "collapsed": true
   },
   "outputs": [],
   "source": [
    "def section():\n",
    "    print(f\"\\n{'*' * 10} SECTION {'*' * 10} \\n\")\n",
    "\n",
    "\n",
    "def divider():\n",
    "    print(f\"\\n\\t{'-' * 10} DIVIDER {'-' * 10} \\n\")"
   ]
  },
  {
   "cell_type": "code",
   "execution_count": 23,
   "outputs": [
    {
     "name": "stdout",
     "output_type": "stream",
     "text": [
      "$ç¥∆†ø\n",
      "$ç¥∆†ø\n",
      "ABC\n",
      "[65, 66, 67]\n"
     ]
    }
   ],
   "source": [
    "symbols = '$ç¥∆†ø'\n",
    "codes = []\n",
    "for symbol in symbols:\n",
    "    codes.append(ord(symbol))\n",
    "print(symbols)\n",
    "\n",
    "# Equivalently: This code below is much readable and faster\n",
    "\n",
    "symbols = '$ç¥∆†ø'\n",
    "codes = [ord(symbol) for symbol in symbols]\n",
    "print(symbols)\n",
    "\n",
    "\n",
    "x = 'ABC'\n",
    "dummy = [ord(x) for x in x]\n",
    "print(x)\n",
    "print(dummy)\n",
    "# prior to python 2 the value of x would have leaked"
   ],
   "metadata": {
    "collapsed": false,
    "pycharm": {
     "name": "#%%\n"
    }
   }
  },
  {
   "cell_type": "markdown",
   "source": [
    "## Listcomp vs map and filter"
   ],
   "metadata": {
    "collapsed": false,
    "pycharm": {
     "name": "#%% md\n"
    }
   }
  },
  {
   "cell_type": "code",
   "execution_count": 24,
   "outputs": [
    {
     "name": "stdout",
     "output_type": "stream",
     "text": [
      "[162, 163, 165, 8364, 164]\n",
      "[162, 163, 165, 8364, 164]\n",
      "[('black', 'S'), ('black', 'M'), ('black', 'L'), ('white', 'S'), ('white', 'M'), ('white', 'L')]\n",
      "black S\n",
      "black M\n",
      "black L\n",
      "white S\n",
      "white M\n",
      "white L\n"
     ]
    }
   ],
   "source": [
    "symbols = '$¢£¥€¤'\n",
    "beyond_ascii = [ord(s) for s in symbols if ord(s) > 127]\n",
    "print(beyond_ascii)\n",
    "\n",
    "\n",
    "# Using map\n",
    "beyond_ascii = list(filter(lambda c: c > 127, map(ord, symbols)))\n",
    "print(beyond_ascii)\n",
    "# readability kinda suffers\n",
    "\n",
    "# Cartesian products\n",
    "colors = ['black', 'white']\n",
    "sizes = ['S', 'M', 'L']\n",
    "\n",
    "tshirts = [(color, size) for color in colors for size in sizes]\n",
    "\n",
    "print(tshirts)\n",
    "\n",
    "# Cartesian product in generator expression\n",
    "for tshirt in ('%s %s' % (c, s) for c in colors for s in sizes):\n",
    "    print(tshirt)\n",
    "# The expression yield items one by one and no list is created at the end\n"
   ],
   "metadata": {
    "collapsed": false,
    "pycharm": {
     "name": "#%%\n"
    }
   }
  },
  {
   "cell_type": "markdown",
   "source": [
    "## Generator expressions\n",
    "used for initializing other sequences types such as tuple, array and others"
   ],
   "metadata": {
    "collapsed": false
   }
  },
  {
   "cell_type": "code",
   "source": [
    "symbols = '$¢£¥€¤'\n",
    "codes = tuple(ord(symbol) for symbol in symbols)\n",
    "print(codes)\n",
    "\n",
    "import array\n",
    "codes = array.array('I', (ord(symbol) for symbol in symbols))\n",
    "print(codes)\n",
    "\n",
    "# Tuples\n",
    "# Tuples as records\n",
    "\n",
    "lax_coordinates = (33.9425, -118.408056)\n",
    "city, year, pop, chg, area = ('Tokyo', 2003, 32450, 0.66, 8014)\n",
    "traveler_ids = [('USA', '31195855'), ('BRA', 'CE342567'), ('ESP', 'XDA205856')]\n",
    "\n",
    "for passport in sorted(traveler_ids):\n",
    "    print('%s/%s' % passport)\n",
    "\n",
    "\n",
    "# Tuple unpacking\n",
    "b = 10\n",
    "a = 0\n",
    "a, b = b, a\n",
    "print(a, b)\n",
    "\n",
    "import os\n",
    "\n",
    "_, filename = os.path.split('../The Python Data Model/ex-code.py')\n",
    "print(_)\n",
    "print(filename)\n",
    "\n",
    "\n",
    "# using * to grab excess items\n",
    "a, b, *rest = range(5)\n",
    "print(a, b, rest)"
   ],
   "metadata": {
    "collapsed": false,
    "pycharm": {
     "name": "#%%\n"
    }
   },
   "execution_count": 25,
   "outputs": [
    {
     "name": "stdout",
     "output_type": "stream",
     "text": [
      "(36, 162, 163, 165, 8364, 164)\n",
      "array('I', [36, 162, 163, 165, 8364, 164])\n",
      "BRA/CE342567\n",
      "ESP/XDA205856\n",
      "USA/31195855\n",
      "10 0\n",
      "../The Python Data Model\n",
      "ex-code.py\n",
      "0 1 [2, 3, 4]\n"
     ]
    }
   ]
  },
  {
   "cell_type": "markdown",
   "source": [
    "## NAMED TUPLES"
   ],
   "metadata": {
    "collapsed": false
   }
  },
  {
   "cell_type": "code",
   "source": [
    "from collections import namedtuple\n",
    "# City = namedtuple('City', ['name', 'country', 'population', 'coordinates'])\n",
    "# OR\n",
    "City = namedtuple('City', 'name country population coordinates')\n",
    "\n",
    "tokyo = City('Tokyo', 'JP', 36.689722, (35.689722, 139.691667))\n",
    "print(tokyo)\n",
    "print(tokyo.coordinates)\n",
    "print(tokyo.coordinates[0])\n",
    "\n",
    "coord = tokyo.coordinates\n",
    "print(coord)\n",
    "\n",
    "print(City._fields)\n",
    "print(City._field_defaults)\n",
    "\n",
    "Latlong = namedtuple('Latlong', 'lat log')\n",
    "\n",
    "delhi_data = ('Delhi NCR', 'IN', 21.935, Latlong(28.613, 77.2088))\n",
    "delhi = City._make(delhi_data)\n",
    "print(delhi)\n",
    "print(delhi._asdict())\n",
    "\n",
    "for key, value in delhi._asdict().items():\n",
    "    print(key + ':', value)\n",
    "\n",
    "items = [n for n in range(0, 100) if n % 2 == 0] + list([0, 0, 0, 0])\n",
    "print(items.count(0)) # count all occurrences of zero"
   ],
   "metadata": {
    "collapsed": false,
    "pycharm": {
     "name": "#%%\n"
    }
   },
   "execution_count": 26,
   "outputs": [
    {
     "name": "stdout",
     "output_type": "stream",
     "text": [
      "City(name='Tokyo', country='JP', population=36.689722, coordinates=(35.689722, 139.691667))\n",
      "(35.689722, 139.691667)\n",
      "35.689722\n",
      "(35.689722, 139.691667)\n",
      "('name', 'country', 'population', 'coordinates')\n",
      "{}\n",
      "City(name='Delhi NCR', country='IN', population=21.935, coordinates=Latlong(lat=28.613, log=77.2088))\n",
      "{'name': 'Delhi NCR', 'country': 'IN', 'population': 21.935, 'coordinates': Latlong(lat=28.613, log=77.2088)}\n",
      "name: Delhi NCR\n",
      "country: IN\n",
      "population: 21.935\n",
      "coordinates: Latlong(lat=28.613, log=77.2088)\n",
      "5\n"
     ]
    }
   ]
  },
  {
   "cell_type": "markdown",
   "source": [
    "## Why slices and range exclude the last item"
   ],
   "metadata": {
    "collapsed": false
   }
  },
  {
   "cell_type": "code",
   "source": [
    "l = [10, 20, 30, 40, 50, 60]\n",
    "print(l)\n",
    "print(l[:2])\n",
    "print(l[2:])\n",
    "print(l[:3])\n",
    "print(l[3:])\n",
    "print(l[3::2])\n",
    "\n",
    "\n",
    "# Slice objects\n",
    "\"\"\" How Python interprets slice notations \"\"\"\n",
    "s = 'bicycle'\n",
    "print(s[::3]) # with 3 steps\n",
    "print(s[::-1])\n",
    "print(s[::-2])\n",
    "\n",
    "\n",
    "invoice = \"\"\"\n",
    "    0.....6.................................40...........52...55.......\n",
    "    1909  Pimoroni PiBrella                     $17.50      3    $52.50\n",
    "    1909  Pimoroni PiBrella                     $17.50      3    $52.50\n",
    "    1909  Pimoroni PiBrella                     $17.50      3    $52.50\n",
    "    1909  Pimoroni PiBrella                     $17.50      3    $52.50\n",
    "    1909  Pimoroni PiBrella                     $17.50      3    $52.50\n",
    "\"\"\"\n",
    "\n",
    "SKU = slice(0, 6)\n",
    "DESCRIPTION = slice(6, 40)\n",
    "UNIT_PRICE  = slice(40, 52)\n",
    "QUANTITY    = slice(52, 55)\n",
    "ITEM_TOTAL  = slice(55, None)\n",
    "line_items = invoice.split('\\n')[2:]\n",
    "for item in line_items:\n",
    "    print(item[UNIT_PRICE], item[DESCRIPTION])"
   ],
   "metadata": {
    "collapsed": false,
    "pycharm": {
     "name": "#%%\n"
    }
   },
   "execution_count": 27,
   "outputs": [
    {
     "name": "stdout",
     "output_type": "stream",
     "text": [
      "[10, 20, 30, 40, 50, 60]\n",
      "[10, 20]\n",
      "[30, 40, 50, 60]\n",
      "[10, 20, 30]\n",
      "[40, 50, 60]\n",
      "[40, 60]\n",
      "bye\n",
      "elcycib\n",
      "eccb\n",
      "        $17. 09  Pimoroni PiBrella             \n",
      "        $17. 09  Pimoroni PiBrella             \n",
      "        $17. 09  Pimoroni PiBrella             \n",
      "        $17. 09  Pimoroni PiBrella             \n",
      "        $17. 09  Pimoroni PiBrella             \n",
      " \n"
     ]
    }
   ]
  },
  {
   "cell_type": "markdown",
   "source": [
    "## Multi-dimensional slicing and ellipsis"
   ],
   "metadata": {
    "collapsed": false
   }
  },
  {
   "cell_type": "code",
   "source": [
    "multi = [\n",
    "    [[10, 0, 3], [10, 0, 3], [10, 0, 3]],\n",
    "    [40, 0, 3],\n",
    "    [10, 20, 3],\n",
    "    [10, 60, 3],\n",
    "]"
   ],
   "metadata": {
    "collapsed": false,
    "pycharm": {
     "name": "#%%\n"
    }
   },
   "execution_count": 28,
   "outputs": []
  },
  {
   "cell_type": "markdown",
   "source": [
    "## Assigning to Slices"
   ],
   "metadata": {
    "collapsed": false
   }
  },
  {
   "cell_type": "code",
   "source": [
    "l = list(range(10))\n",
    "print(l)\n",
    "\n",
    "l[2:5] = [20, 30]\n",
    "print(l)\n",
    "\n",
    "del l[5:7]\n",
    "print(l)\n",
    "\n",
    "l[3::2] = [11, 22]\n",
    "print(l)"
   ],
   "metadata": {
    "collapsed": false,
    "pycharm": {
     "name": "#%%\n"
    }
   },
   "execution_count": 29,
   "outputs": [
    {
     "name": "stdout",
     "output_type": "stream",
     "text": [
      "[0, 1, 2, 3, 4, 5, 6, 7, 8, 9]\n",
      "[0, 1, 20, 30, 5, 6, 7, 8, 9]\n",
      "[0, 1, 20, 30, 5, 8, 9]\n",
      "[0, 1, 20, 11, 5, 22, 9]\n"
     ]
    }
   ]
  },
  {
   "cell_type": "markdown",
   "source": [
    "## Using + and * with sequences\n",
    "   - both operands must be of the same type"
   ],
   "metadata": {
    "collapsed": false
   }
  },
  {
   "cell_type": "code",
   "source": [
    "l = [i for i in range(10)]\n",
    "print(l)\n",
    "five_ls = l * 5\n",
    "print(five_ls)\n",
    "\n",
    "print('abcd' * 5)"
   ],
   "metadata": {
    "collapsed": false,
    "pycharm": {
     "name": "#%%\n"
    }
   },
   "execution_count": 30,
   "outputs": [
    {
     "name": "stdout",
     "output_type": "stream",
     "text": [
      "[0, 1, 2, 3, 4, 5, 6, 7, 8, 9]\n",
      "[0, 1, 2, 3, 4, 5, 6, 7, 8, 9, 0, 1, 2, 3, 4, 5, 6, 7, 8, 9, 0, 1, 2, 3, 4, 5, 6, 7, 8, 9, 0, 1, 2, 3, 4, 5, 6, 7, 8, 9, 0, 1, 2, 3, 4, 5, 6, 7, 8, 9]\n",
      "abcdabcdabcdabcdabcd\n"
     ]
    }
   ]
  },
  {
   "cell_type": "markdown",
   "source": [
    "## Pitfalls: Building `lists of list`"
   ],
   "metadata": {
    "collapsed": false
   }
  },
  {
   "cell_type": "code",
   "source": [
    "board = [[i] * 3 for i in range(3)]\n",
    "print(board)\n",
    "board = [['-'] * 3 for i in range(3)]\n",
    "print(board)\n",
    "\n",
    "board[1][2] = 'X'\n",
    "print(board)\n",
    "\n",
    "weird_board = [['_'] * 3] * 3\n",
    "print(weird_board)\n",
    "weird_board[1][2] = '0'\n",
    "print(weird_board) # Now noticed the difference: the same reference were used for the three lists"
   ],
   "metadata": {
    "collapsed": false,
    "pycharm": {
     "name": "#%%\n"
    }
   },
   "execution_count": 31,
   "outputs": [
    {
     "name": "stdout",
     "output_type": "stream",
     "text": [
      "[[0, 0, 0], [1, 1, 1], [2, 2, 2]]\n",
      "[['-', '-', '-'], ['-', '-', '-'], ['-', '-', '-']]\n",
      "[['-', '-', '-'], ['-', '-', 'X'], ['-', '-', '-']]\n",
      "[['_', '_', '_'], ['_', '_', '_'], ['_', '_', '_']]\n",
      "[['_', '_', '0'], ['_', '_', '0'], ['_', '_', '0']]\n"
     ]
    }
   ]
  },
  {
   "cell_type": "markdown",
   "source": [
    "## Augmented assignment with sequences"
   ],
   "metadata": {
    "collapsed": false
   }
  },
  {
   "cell_type": "code",
   "source": [
    "a = 0\n",
    "b = 2\n",
    "a += b\n",
    "print(a)\n",
    "\n",
    "l = [1, 2, 3]\n",
    "print(id(l))\n",
    "l *= 2\n",
    "print(l)\n",
    "\n",
    "t = (1, 2, 3)\n",
    "print(id(t))\n",
    "t *= 2\n",
    "print(t)\n",
    "print(id(t))\n"
   ],
   "metadata": {
    "collapsed": false,
    "pycharm": {
     "name": "#%%\n"
    }
   },
   "execution_count": 32,
   "outputs": [
    {
     "name": "stdout",
     "output_type": "stream",
     "text": [
      "2\n",
      "4520529216\n",
      "[1, 2, 3, 1, 2, 3]\n",
      "4520394432\n",
      "(1, 2, 3, 1, 2, 3)\n",
      "4436616288\n"
     ]
    }
   ]
  },
  {
   "cell_type": "markdown",
   "source": [
    "## A += assignment puzzler"
   ],
   "metadata": {
    "collapsed": false
   }
  },
  {
   "cell_type": "code",
   "source": [
    "t = (1, 2, [30, 40])\n",
    "print(t)\n",
    "t[2].append(50)\n",
    "# t[2] += [50, 60]\n",
    "print(t)"
   ],
   "metadata": {
    "collapsed": false,
    "pycharm": {
     "name": "#%%\n"
    }
   },
   "execution_count": 33,
   "outputs": [
    {
     "name": "stdout",
     "output_type": "stream",
     "text": [
      "(1, 2, [30, 40])\n",
      "(1, 2, [30, 40, 50])\n"
     ]
    }
   ]
  },
  {
   "cell_type": "markdown",
   "source": [
    "## Visualizing Python Bytecode"
   ],
   "metadata": {
    "collapsed": false
   }
  },
  {
   "cell_type": "code",
   "source": [
    "import dis\n",
    "dis.dis('a += b')"
   ],
   "metadata": {
    "collapsed": false,
    "pycharm": {
     "name": "#%%\n"
    }
   },
   "execution_count": 34,
   "outputs": [
    {
     "name": "stdout",
     "output_type": "stream",
     "text": [
      "  1           0 LOAD_NAME                0 (a)\n",
      "              2 LOAD_NAME                1 (b)\n",
      "              4 INPLACE_ADD\n",
      "              6 STORE_NAME               0 (a)\n",
      "              8 LOAD_CONST               0 (None)\n",
      "             10 RETURN_VALUE\n"
     ]
    }
   ]
  },
  {
   "cell_type": "markdown",
   "source": [
    "## list.sort and the sorted built-in functions"
   ],
   "metadata": {
    "collapsed": false
   }
  },
  {
   "cell_type": "code",
   "source": [
    "my_str = [\n",
    "    \"kelvin\",\n",
    "    \"Kelvin\",\n",
    "    \"Mark\",\n",
    "    \"jon\",\n",
    "]\n",
    "\n",
    "print(my_str)\n",
    "print(my_str.sort())\n",
    "\n",
    "my_str = sorted(my_str, key=str.lower, reverse=True)\n",
    "print(my_str)\n",
    "\n",
    "fruits = ['grape', 'raspberry', 'apple', 'banana']\n",
    "print(fruits)\n",
    "print(fruits.sort())\n",
    "print(sorted(fruits))\n",
    "print(sorted(fruits, key=len))"
   ],
   "metadata": {
    "collapsed": false,
    "pycharm": {
     "name": "#%%\n"
    }
   },
   "execution_count": 35,
   "outputs": [
    {
     "name": "stdout",
     "output_type": "stream",
     "text": [
      "['kelvin', 'Kelvin', 'Mark', 'jon']\n",
      "None\n",
      "['Mark', 'Kelvin', 'kelvin', 'jon']\n",
      "['grape', 'raspberry', 'apple', 'banana']\n",
      "None\n",
      "['apple', 'banana', 'grape', 'raspberry']\n",
      "['apple', 'grape', 'banana', 'raspberry']\n"
     ]
    }
   ]
  },
  {
   "cell_type": "markdown",
   "source": [
    "## Searching with bisect"
   ],
   "metadata": {
    "collapsed": false
   }
  },
  {
   "cell_type": "code",
   "source": [
    "import bisect\n",
    "import sys\n",
    "\n",
    "HAYSTACK = [1, 4, 5, 6, 8, 12, 15, 20, 21, 23, 23, 26, 29, 30]\n",
    "NEEDLES = [0, 1, 2, 5, 8, 10, 22, 23, 29, 30, 31]\n",
    "\n",
    "ROW_FMT = '{0:2d} @ {1:2d}    {2}{0:<2d}'\n",
    "\n",
    "\n",
    "def demo(bisect_fn):\n",
    "    for needle in reversed(NEEDLES):\n",
    "        position = bisect_fn(HAYSTACK, needle)\n",
    "        offset = position * '  |'\n",
    "        if position == 0:\n",
    "            offset += '  |'\n",
    "        print(ROW_FMT.format(needle, position, f\"{offset} search value: \"))\n",
    "\n",
    "\n",
    "if __name__ == \"__main__\":\n",
    "    if sys.argv[-1] == 'left':\n",
    "        bisect_fn = bisect.bisect_left\n",
    "    else:\n",
    "        bisect_fn = bisect.bisect\n",
    "\n",
    "    print('Demo:', bisect_fn.__name__)\n",
    "    print('haystack ->', ' '.join('%2d' % n for n in HAYSTACK))\n",
    "    demo(bisect_fn)\n",
    "\n",
    "\n",
    "nc = bisect.bisect_left(HAYSTACK, 15)\n",
    "print(nc)\n",
    "nc = bisect.bisect_right(HAYSTACK, 15)\n",
    "print(nc)"
   ],
   "metadata": {
    "collapsed": false,
    "pycharm": {
     "name": "#%%\n"
    }
   },
   "execution_count": 36,
   "outputs": [
    {
     "name": "stdout",
     "output_type": "stream",
     "text": [
      "Demo: bisect_right\n",
      "haystack ->  1  4  5  6  8 12 15 20 21 23 23 26 29 30\n",
      "31 @ 14      |  |  |  |  |  |  |  |  |  |  |  |  |  | search value: 31\n",
      "30 @ 14      |  |  |  |  |  |  |  |  |  |  |  |  |  | search value: 30\n",
      "29 @ 13      |  |  |  |  |  |  |  |  |  |  |  |  | search value: 29\n",
      "23 @ 11      |  |  |  |  |  |  |  |  |  |  | search value: 23\n",
      "22 @  9      |  |  |  |  |  |  |  |  | search value: 22\n",
      "10 @  5      |  |  |  |  | search value: 10\n",
      " 8 @  5      |  |  |  |  | search value: 8 \n",
      " 5 @  3      |  |  | search value: 5 \n",
      " 2 @  1      | search value: 2 \n",
      " 1 @  1      | search value: 1 \n",
      " 0 @  0      | search value: 0 \n",
      "6\n",
      "7\n"
     ]
    }
   ]
  },
  {
   "cell_type": "markdown",
   "source": [
    "## Inserting with bisect.insort\n",
    " - insort sorts a sequences and keeps it that way"
   ],
   "metadata": {
    "collapsed": false
   }
  },
  {
   "cell_type": "code",
   "source": [
    "import bisect\n",
    "import random\n",
    "\n",
    "SIZE = 7\n",
    "random.seed(1729)\n",
    "\n",
    "my_list = []\n",
    "for i in range(SIZE):\n",
    "    new_item = random.randrange(SIZE * 2)\n",
    "    bisect.insort(my_list, new_item)\n",
    "    print('%2d ->' % new_item, my_list)\n"
   ],
   "metadata": {
    "collapsed": false,
    "pycharm": {
     "name": "#%%\n"
    }
   },
   "execution_count": 37,
   "outputs": [
    {
     "name": "stdout",
     "output_type": "stream",
     "text": [
      "10 -> [10]\n",
      " 0 -> [0, 10]\n",
      " 6 -> [0, 6, 10]\n",
      " 8 -> [0, 6, 8, 10]\n",
      " 7 -> [0, 6, 7, 8, 10]\n",
      " 2 -> [0, 2, 6, 7, 8, 10]\n",
      "10 -> [0, 2, 6, 7, 8, 10, 10]\n"
     ]
    }
   ]
  },
  {
   "cell_type": "markdown",
   "source": [
    "## When list is not the answer!\n",
    "\n",
    "Arrays:"
   ],
   "metadata": {
    "collapsed": false
   }
  },
  {
   "cell_type": "code",
   "source": [
    "from array import array\n",
    "from random import random\n",
    "\n",
    "# floats = array('d', (random() for i in range(10**7)))\n",
    "# print(floats[-1])\n",
    "#\n",
    "# fp = open('floats.bin', 'wb')\n",
    "# fpt = open('floats.txt', 'w')\n",
    "#\n",
    "# floats.tofile(fp)\n",
    "# fp.close()\n",
    "#\n",
    "# floats2 = array('d')\n",
    "# fp = open('floats.bin', 'rb')\n",
    "# floats2.fromfile(fp, 10**7)\n",
    "# fp.close()\n",
    "#\n",
    "# print(floats2[-1])\n",
    "# print(floats2 == floats)\n"
   ],
   "metadata": {
    "collapsed": false,
    "pycharm": {
     "name": "#%%\n"
    }
   },
   "execution_count": 38,
   "outputs": []
  },
  {
   "cell_type": "markdown",
   "source": [
    "## Memory Views"
   ],
   "metadata": {
    "collapsed": false
   }
  },
  {
   "cell_type": "code",
   "source": [
    "numbers = array('h', [-2, -1, 0, 1, 2])\n",
    "memv = memoryview(numbers)\n",
    "print(len(memv))\n",
    "\n",
    "print(memv[0])\n",
    "memv_oct = memv.cast('B')\n",
    "print(memv_oct.tolist())\n",
    "memv_oct[5] = 2\n",
    "\n",
    "section()"
   ],
   "metadata": {
    "collapsed": false,
    "pycharm": {
     "name": "#%%\n"
    }
   },
   "execution_count": 39,
   "outputs": [
    {
     "name": "stdout",
     "output_type": "stream",
     "text": [
      "5\n",
      "-2\n",
      "[254, 255, 255, 255, 0, 0, 1, 0, 2, 0]\n",
      "\n",
      "********** SECTION ********** \n",
      "\n"
     ]
    }
   ]
  },
  {
   "cell_type": "markdown",
   "source": [
    "## Numpy and Scipy"
   ],
   "metadata": {
    "collapsed": false
   }
  },
  {
   "cell_type": "code",
   "source": [
    "import numpy\n",
    "\n",
    "a = numpy.arange(12)\n",
    "print(a)\n",
    "print(type(a))\n",
    "print(a.shape)\n",
    "\n",
    "a.shape = 3, 4 # three rows and 4 columns matrix\n",
    "print(a)\n",
    "divider()\n",
    "\n",
    "print(a[2])\n",
    "divider()\n",
    "print(a[:])\n",
    "divider()\n",
    "print(a[...])\n",
    "divider()\n",
    "print(\"Row 2: index:1 ==>\", a[2, 1])\n",
    "divider()\n",
    "print(\"Column 1 ==>\", a[:, 1])\n",
    "divider()\n",
    "print(\"A: Transpose: ==>\", a.transpose())\n",
    "\n",
    "section()\n",
    "\n",
    "from time import perf_counter as pc\n",
    "\n",
    "try:\n",
    "    floats = numpy.loadtxt('floats-10M-lines.txt')\n",
    "    print(floats[-3:]) # get the last three numbers\n",
    "    floats *= .5\n",
    "    print(floats[-3:])\n",
    "\n",
    "    to = pc(); floats /= 3; pc() - to\n",
    "    numpy.save('float-10M', floats)\n",
    "    floats = numpy.load('floats-10M,npy', 'r+')\n",
    "    floats *= 6\n",
    "    print(floats[-3:])\n",
    "\n",
    "except IOError:\n",
    "    print(\"File not Found\")\n",
    "\n",
    "section()"
   ],
   "metadata": {
    "collapsed": false,
    "pycharm": {
     "name": "#%%\n"
    }
   },
   "execution_count": 40,
   "outputs": [
    {
     "name": "stdout",
     "output_type": "stream",
     "text": [
      "[ 0  1  2  3  4  5  6  7  8  9 10 11]\n",
      "<class 'numpy.ndarray'>\n",
      "(12,)\n",
      "[[ 0  1  2  3]\n",
      " [ 4  5  6  7]\n",
      " [ 8  9 10 11]]\n",
      "\n",
      "\t---------- DIVIDER ---------- \n",
      "\n",
      "[ 8  9 10 11]\n",
      "\n",
      "\t---------- DIVIDER ---------- \n",
      "\n",
      "[[ 0  1  2  3]\n",
      " [ 4  5  6  7]\n",
      " [ 8  9 10 11]]\n",
      "\n",
      "\t---------- DIVIDER ---------- \n",
      "\n",
      "[[ 0  1  2  3]\n",
      " [ 4  5  6  7]\n",
      " [ 8  9 10 11]]\n",
      "\n",
      "\t---------- DIVIDER ---------- \n",
      "\n",
      "Row 2: index:1 ==> 9\n",
      "\n",
      "\t---------- DIVIDER ---------- \n",
      "\n",
      "Column 1 ==> [1 5 9]\n",
      "\n",
      "\t---------- DIVIDER ---------- \n",
      "\n",
      "A: Transpose: ==> [[ 0  4  8]\n",
      " [ 1  5  9]\n",
      " [ 2  6 10]\n",
      " [ 3  7 11]]\n",
      "\n",
      "********** SECTION ********** \n",
      "\n",
      "File not Found\n",
      "\n",
      "********** SECTION ********** \n",
      "\n"
     ]
    }
   ]
  },
  {
   "cell_type": "markdown",
   "source": [
    "## Deques and queues"
   ],
   "metadata": {
    "collapsed": false,
    "pycharm": {
     "name": "#%% md\n"
    }
   }
  },
  {
   "cell_type": "code",
   "source": [
    "from collections import deque\n",
    "\n",
    "dc = deque()\n",
    "dc.append('kelvin')\n",
    "print(dc)\n",
    "divider()\n",
    "dq = deque(range(10), maxlen=10)\n",
    "print(dq)\n",
    "dq.rotate(-4)\n",
    "print(dq)\n",
    "dq.appendleft(-1)\n",
    "print(dq)\n",
    "dq.extend([11, 22, 33])\n",
    "print(dq)\n",
    "dq.extendleft([10, 20, 30, 40])\n",
    "print(dq)"
   ],
   "metadata": {
    "collapsed": false,
    "pycharm": {
     "name": "#%%\n"
    }
   },
   "execution_count": 41,
   "outputs": [
    {
     "name": "stdout",
     "output_type": "stream",
     "text": [
      "deque(['kelvin'])\n",
      "\n",
      "\t---------- DIVIDER ---------- \n",
      "\n",
      "deque([0, 1, 2, 3, 4, 5, 6, 7, 8, 9], maxlen=10)\n",
      "deque([4, 5, 6, 7, 8, 9, 0, 1, 2, 3], maxlen=10)\n",
      "deque([-1, 4, 5, 6, 7, 8, 9, 0, 1, 2], maxlen=10)\n",
      "deque([6, 7, 8, 9, 0, 1, 2, 11, 22, 33], maxlen=10)\n",
      "deque([40, 30, 20, 10, 6, 7, 8, 9, 0, 1], maxlen=10)\n"
     ]
    }
   ]
  }
 ],
 "metadata": {
  "kernelspec": {
   "display_name": "Python 3",
   "language": "python",
   "name": "python3"
  },
  "language_info": {
   "codemirror_mode": {
    "name": "ipython",
    "version": 2
   },
   "file_extension": ".py",
   "mimetype": "text/x-python",
   "name": "python",
   "nbconvert_exporter": "python",
   "pygments_lexer": "ipython2",
   "version": "2.7.6"
  }
 },
 "nbformat": 4,
 "nbformat_minor": 0
}